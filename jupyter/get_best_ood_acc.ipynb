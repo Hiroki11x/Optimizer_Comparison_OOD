{
 "cells": [
  {
   "cell_type": "code",
   "execution_count": null,
   "id": "f5ada1df-37d6-4299-b379-5049bfe7a779",
   "metadata": {},
   "outputs": [],
   "source": [
    "import numpy as np\n",
    "import matplotlib.pyplot as plt\n",
    "%matplotlib inline\n",
    "import pandas as pd\n",
    "import wandb\n",
    "\n",
    "from tqdm import tqdm\n",
    "from typing import Union"
   ]
  },
  {
   "cell_type": "code",
   "execution_count": null,
   "id": "af62c030-131c-47db-b282-f5706efbc1e5",
   "metadata": {},
   "outputs": [],
   "source": [
    "def wandb2pd(exp_runs):\n",
    "    df = pd.DataFrame(data=None, index=None, columns=None, dtype=None, copy=False)\n",
    "    summary_df = pd.DataFrame(data=None, index=None, columns=None, dtype=None, copy=False)\n",
    "    config_df = pd.DataFrame(data=None, index=None, columns=None, dtype=None, copy=False)\n",
    "    name_df = pd.DataFrame(data=None, index=None, columns=None, dtype=None, copy=False)\n",
    "\n",
    "    summary = [] \n",
    "    config = [] \n",
    "    name = [] \n",
    "    for exp in exp_runs: \n",
    "        summary.append(exp.summary._json_dict) \n",
    "        config.append({k:v for k,v in exp.config.items() if not k.startswith('_')}) \n",
    "        name.append(exp.name)       \n",
    "\n",
    "    summary_df = pd.DataFrame.from_records(summary) \n",
    "    config_df = pd.DataFrame.from_records(config) \n",
    "    name_df = pd.DataFrame({'name': name}) \n",
    "    df = pd.concat([name_df, config_df, summary_df], axis=1)\n",
    "    return df"
   ]
  },
  {
   "cell_type": "code",
   "execution_count": null,
   "id": "aed0e19d-a317-4214-a68a-76c3aff16611",
   "metadata": {},
   "outputs": [],
   "source": [
    "def get_history(exp_runs):\n",
    "    \n",
    "    history = []\n",
    "    for exp in exp_runs: \n",
    "        history.append(exp.history())\n",
    "    \n",
    "    return history"
   ]
  },
  {
   "cell_type": "code",
   "execution_count": null,
   "id": "c4334545-1fac-427c-abe2-3cd1a44dc715",
   "metadata": {},
   "outputs": [],
   "source": [
    "def get_mac_ood_acc(df:pd.DataFrame, ood_acc_column:str):\n",
    "    max_ood_acc = df[ood_acc_column].max()\n",
    "    return max_ood_acc"
   ]
  },
  {
   "cell_type": "code",
   "execution_count": null,
   "id": "14ee3f58-b568-4643-b8c8-45a1c9610e71",
   "metadata": {},
   "outputs": [],
   "source": [
    "def get_max_ood_acc_list(history, ood_acc_column):\n",
    "    max_ood_acc_list = []\n",
    "    \n",
    "    for history_elemnt in history:\n",
    "        try:\n",
    "            ood_acc_list = history_elemnt[ood_acc_column].tolist()\n",
    "            max_ood_acc_list.append(\n",
    "                np.nanmax(np.array(ood_acc_list))\n",
    "            )\n",
    "        except:\n",
    "            continue\n",
    "            \n",
    "    return max_ood_acc_list"
   ]
  },
  {
   "cell_type": "code",
   "execution_count": null,
   "id": "741cde71-cbc6-4970-a91d-12407e5ccf16",
   "metadata": {},
   "outputs": [],
   "source": [
    "api = wandb.Api()"
   ]
  },
  {
   "cell_type": "markdown",
   "id": "448c2e29-fa8e-4608-9904-a063567190ac",
   "metadata": {},
   "source": [
    "### BGC"
   ]
  },
  {
   "cell_type": "code",
   "execution_count": null,
   "id": "1f4cfaa5-c730-4a97-aac6-d6685b3139db",
   "metadata": {},
   "outputs": [],
   "source": [
    "optimizer_list = [\n",
    "    \"Momentum\",\n",
    "    \"Adam\"\n",
    "]\n",
    "\n",
    "ood_acc_column = \"acc_mixed_rand\""
   ]
  },
  {
   "cell_type": "code",
   "execution_count": null,
   "id": "2145c1c8-ad50-49f9-b80e-8332fc94f1b9",
   "metadata": {
    "tags": []
   },
   "outputs": [],
   "source": [
    "path_list = [\n",
    "    \"entity_name/project_momentum_sgd\",\n",
    "    \"entity_name/project_adam\"\n",
    "]\n",
    "for path, optimizer in zip(path_list, optimizer_list):\n",
    "    print(f\"{optimizer}:{path}\")\n",
    "    exp_runs = api.runs(\n",
    "        path=path,\n",
    "        filters={\"state\":\"finished\"}\n",
    "    )\n",
    "    history = get_history(exp_runs=exp_runs)    \n",
    "    max_ood_acc_list = get_max_ood_acc_list(history=history, ood_acc_column=ood_acc_column)    \n",
    "    best_ood_acc = max(max_ood_acc_list)\n",
    "    print(f\"{optimizer}:{best_ood_acc}\")\n",
    "    print()"
   ]
  },
  {
   "cell_type": "markdown",
   "id": "df5b2987-5bee-4f0e-abaf-06c1e863ae05",
   "metadata": {},
   "source": [
    "### Domainbed"
   ]
  },
  {
   "cell_type": "code",
   "execution_count": null,
   "id": "cde6a7da-4b3a-44ac-82cb-7243b084f921",
   "metadata": {},
   "outputs": [],
   "source": [
    "ood_acc_column = \"avg_test_acc\""
   ]
  },
  {
   "cell_type": "code",
   "execution_count": null,
   "id": "47268b68-6656-415a-907b-7776f1dcfaec",
   "metadata": {},
   "outputs": [],
   "source": [
    "optimizer_list = [\n",
    "    \"Momentum\",\n",
    "    \"Nesterov\",\n",
    "    \"Adam\"\n",
    "]"
   ]
  },
  {
   "cell_type": "code",
   "execution_count": null,
   "id": "584063ad-a338-4883-96a4-93cf6e56beb5",
   "metadata": {
    "jupyter": {
     "outputs_hidden": true
    },
    "tags": []
   },
   "outputs": [],
   "source": [
    "dataset_list = [\n",
    "    \"ColoredMNIST\",\n",
    "    \"PACS\",\n",
    "    \"VLCS\",\n",
    "    \"OfficeHome\",\n",
    "    \"TerraIncognita\",\n",
    "    \"DomainNet\",\n",
    "    \"RotatedMNIST\"\n",
    "]\n",
    "algorithm_list = [\n",
    "    \"ERM\",\n",
    "    \"IRM\"\n",
    "]\n",
    "for dataset in dataset_list:\n",
    "    for algorithm in algorithm_list:\n",
    "        \n",
    "        path_list = [\n",
    "            f\"entity_name/{algorithm}_{dataset}_momentum_sgd\",\n",
    "            f\"entity_name/{algorithm}_{dataset}_nesterov_momentum_sgd\",\n",
    "            f\"entity_name/{algorithm}_{dataset}_adam\"\n",
    "        ]\n",
    "        \n",
    "        for path, optimizer in zip(path_list, optimizer_list):\n",
    "            print(f\"{optimizer}:{path}\")\n",
    "            exp_runs = api.runs(\n",
    "                path=path,\n",
    "                filters={\"state\":\"finished\"}\n",
    "            )\n",
    "            history = get_history(exp_runs=exp_runs)            \n",
    "            max_ood_acc_list = get_max_ood_acc_list(history=history, ood_acc_column=ood_acc_column)    \n",
    "            best_ood_acc = max(max_ood_acc_list)\n",
    "            print(f\"{optimizer}:{best_ood_acc}\")\n",
    "            print()\n",
    "        \n"
   ]
  },
  {
   "cell_type": "code",
   "execution_count": null,
   "id": "b3d6f78d-f71e-41c5-b7dc-b682fabbc94e",
   "metadata": {
    "jupyter": {
     "outputs_hidden": true
    },
    "tags": []
   },
   "outputs": [],
   "source": [
    "optimizer_list = [\n",
    "    \"Momentum\",\n",
    "    \"Adam\"\n",
    "]\n",
    "\n",
    "dataset_list = [\n",
    "    \"WILDS_civilcomments\",\n",
    "]\n",
    "algorithm_list = [\n",
    "    \"ERM\",\n",
    "    \"IRM\"\n",
    "]\n",
    "ood_acc_column = \"test_eval/acc_wg\"\n",
    "\n",
    "for dataset in dataset_list:\n",
    "    for algorithm in algorithm_list:\n",
    "        \n",
    "        path_list = [\n",
    "            f\"entity_name/ICML2022_{dataset}_{algorithm}_momentum_sgd\",\n",
    "            f\"entity_name/ICML2022_{dataset}_{algorithm}_adam\"\n",
    "        ]\n",
    "        for path, optimizer in zip(path_list, optimizer_list):\n",
    "            print(f\"{optimizer}:{path}\")\n",
    "            exp_runs = api.runs(\n",
    "                path=path,\n",
    "                filters={\"state\":\"finished\"}\n",
    "            )\n",
    "            history = get_history(exp_runs=exp_runs)            \n",
    "            max_ood_acc_list = get_max_ood_acc_list(history=history, ood_acc_column=ood_acc_column)    \n",
    "            best_ood_acc = max(max_ood_acc_list)\n",
    "            print(f\"{optimizer}:{best_ood_acc}\")\n",
    "            print()\n"
   ]
  },
  {
   "cell_type": "code",
   "execution_count": null,
   "id": "edaa5e9f-fd06-4404-9d5e-4995028c5393",
   "metadata": {
    "jupyter": {
     "outputs_hidden": true
    },
    "tags": []
   },
   "outputs": [],
   "source": [
    "optimizer_list = [\n",
    "    \"Momentum\",\n",
    "    \"Adam\"\n",
    "]\n",
    "\n",
    "dataset_list = [\n",
    "    \"WILDS_Amazon\"\n",
    "]\n",
    "algorithm_list = [\n",
    "    \"ERM\",\n",
    "    \"IRM\"\n",
    "]\n",
    "ood_acc_column = \"test_eval/10th_percentile_acc\"\n",
    "\n",
    "for dataset in dataset_list:\n",
    "    for algorithm in algorithm_list:\n",
    "        \n",
    "        path_list = [\n",
    "            f\"entity_name/ICML2022_{dataset}_{algorithm}_momentum_sgd\",\n",
    "            f\"entity_name/ICML2022_{dataset}_{algorithm}_adam\"\n",
    "        ]\n",
    "        for path, optimizer in zip(path_list, optimizer_list):\n",
    "            print(f\"{optimizer}:{path}\")\n",
    "            exp_runs = api.runs(\n",
    "                path=path,\n",
    "                filters={\"state\":\"finished\"}\n",
    "            )\n",
    "            history = get_history(exp_runs=exp_runs)\n",
    "            max_ood_acc_list = get_max_ood_acc_list(history=history, ood_acc_column=ood_acc_column)    \n",
    "            best_ood_acc = max(max_ood_acc_list)\n",
    "            print(f\"{optimizer}:{best_ood_acc}\")\n",
    "            print()\n"
   ]
  },
  {
   "cell_type": "code",
   "execution_count": null,
   "id": "c81bdc43-7fc3-4cfc-ac35-6a1a05b96bce",
   "metadata": {},
   "outputs": [],
   "source": []
  }
 ],
 "metadata": {
  "kernelspec": {
   "display_name": "Python 3 (ipykernel)",
   "language": "python",
   "name": "python3"
  },
  "language_info": {
   "codemirror_mode": {
    "name": "ipython",
    "version": 3
   },
   "file_extension": ".py",
   "mimetype": "text/x-python",
   "name": "python",
   "nbconvert_exporter": "python",
   "pygments_lexer": "ipython3",
   "version": "3.9.2"
  }
 },
 "nbformat": 4,
 "nbformat_minor": 5
}
