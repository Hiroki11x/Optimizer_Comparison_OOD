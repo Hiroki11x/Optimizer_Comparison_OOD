{
 "cells": [
  {
   "cell_type": "code",
   "execution_count": null,
   "id": "da5fa4d5-5aa3-4660-8179-8d549719a5fd",
   "metadata": {},
   "outputs": [],
   "source": [
    "import json\n",
    "import os\n",
    "\n",
    "import numpy as np\n",
    "import matplotlib.pyplot as plt\n",
    "%matplotlib inline\n",
    "import pandas as pd\n",
    "import wandb\n",
    "\n",
    "from typing import Union"
   ]
  },
  {
   "cell_type": "code",
   "execution_count": null,
   "id": "ad7595a3-f4b5-4041-843a-3e8955e984b8",
   "metadata": {},
   "outputs": [],
   "source": [
    "def wandb2pd(exp_runs):\n",
    "    df = pd.DataFrame(data=None, index=None, columns=None, dtype=None, copy=False)\n",
    "    summary_df = pd.DataFrame(data=None, index=None, columns=None, dtype=None, copy=False)\n",
    "    config_df = pd.DataFrame(data=None, index=None, columns=None, dtype=None, copy=False)\n",
    "    name_df = pd.DataFrame(data=None, index=None, columns=None, dtype=None, copy=False)\n",
    "\n",
    "    summary = [] \n",
    "    config = [] \n",
    "    name = [] \n",
    "    for exp in exp_runs: \n",
    "        summary.append(exp.summary._json_dict) \n",
    "        config.append({k:v for k,v in exp.config.items() if not k.startswith('_')}) \n",
    "        name.append(exp.name)       \n",
    "\n",
    "    summary_df = pd.DataFrame.from_records(summary) \n",
    "    config_df = pd.DataFrame.from_records(config) \n",
    "    name_df = pd.DataFrame({'name': name}) \n",
    "    df = pd.concat([name_df, config_df, summary_df], axis=1)\n",
    "    return df\n"
   ]
  },
  {
   "cell_type": "code",
   "execution_count": null,
   "id": "37f064fb-05a7-4d95-8b91-9c7f2b57a19f",
   "metadata": {},
   "outputs": [],
   "source": [
    "def get_gpu_count(exp_runs):\n",
    "    \n",
    "    for exp in exp_runs:\n",
    "        try:\n",
    "            metedata = json.load(exp.file(\"wandb-metadata.json\").download())\n",
    "            os.remove(\"wandb-metadata.json\")    \n",
    "            return metedata[\"gpu_count\"]\n",
    "        except:\n",
    "            print(f\"{exp.id}:failed to fetch data\")\n",
    "            continue\n",
    "            "
   ]
  },
  {
   "cell_type": "code",
   "execution_count": null,
   "id": "98fc41fe-b735-40c2-890a-cb577671d467",
   "metadata": {},
   "outputs": [],
   "source": [
    "def describe_exp_runs(path:str, is_filter:bool=True) -> (int, float):\n",
    "    \n",
    "    print(path)\n",
    "    api = wandb.Api()\n",
    "    if is_filter:\n",
    "        exp_runs = api.runs(\n",
    "            path=path,\n",
    "            filters={\"state\":\"finished\"}\n",
    "        )\n",
    "    else:\n",
    "        exp_runs = api.runs(\n",
    "            path=path\n",
    "        )\n",
    "        \n",
    "    df = wandb2pd(exp_runs)\n",
    "    gpu_count = get_gpu_count(exp_runs)\n",
    "    \n",
    "    model_num = len(df)\n",
    "    print(f\"Num of Models: {model_num}\")\n",
    "\n",
    "    calc_time = (df[\"_runtime\"].sum() / 3600) * gpu_count\n",
    "    print(f\"Calculation time: {calc_time} hour\")\n",
    "    \n",
    "    print()\n",
    "    return (model_num, calc_time)\n"
   ]
  },
  {
   "cell_type": "code",
   "execution_count": null,
   "id": "a930a022-dec2-4d00-a8c5-88c33ed7a97d",
   "metadata": {},
   "outputs": [],
   "source": [
    "all_model_num = 0\n",
    "all_calc_time = 0"
   ]
  },
  {
   "cell_type": "markdown",
   "id": "3de8fb91-b713-4ea1-ac6a-656049089526",
   "metadata": {},
   "source": [
    "### BGC"
   ]
  },
  {
   "cell_type": "code",
   "execution_count": null,
   "id": "40d2937e-c2f4-451e-b344-37952ee67b64",
   "metadata": {
    "jupyter": {
     "outputs_hidden": true
    },
    "tags": []
   },
   "outputs": [],
   "source": [
    "path_list = [\n",
    "    \"entity_name/project_momentum\",\n",
    "    \"entity_name/project_adam\",\n",
    "    \"entity_name/project_momentum_sgd\",\n",
    "    \"entity_name/project_adam\"\n",
    "]\n",
    "for path in path_list:\n",
    "    if (path == \"entity_name/project_momentum\") or (path == \"entity_name/project_adam\"):\n",
    "        model_num, calc_time = describe_exp_runs(path, is_filter=False)\n",
    "        calc_time *= 8\n",
    "    else:\n",
    "        model_num, calc_time = describe_exp_runs(path)\n",
    "        all_model_num += model_num\n",
    "        \n",
    "    all_calc_time += calc_time"
   ]
  },
  {
   "cell_type": "markdown",
   "id": "778b5bae-5303-409e-8690-f4811ffa0949",
   "metadata": {},
   "source": [
    "### Domainbed"
   ]
  },
  {
   "cell_type": "code",
   "execution_count": null,
   "id": "ab3138f3-98a3-44a6-baea-720e5a3a4262",
   "metadata": {
    "jupyter": {
     "outputs_hidden": true
    },
    "tags": []
   },
   "outputs": [],
   "source": [
    "dataset_list = [\n",
    "    \"ColoredMNIST\",\n",
    "    \"PACS\",\n",
    "    \"VLCS\",\n",
    "    \"OfficeHome\",\n",
    "    \"TerraIncognita\",\n",
    "    \"DomainNet\",\n",
    "    \"RotatedMNIST\"\n",
    "]\n",
    "algorithm_list = [\n",
    "    \"ERM\",\n",
    "    \"IRM\"\n",
    "]\n",
    "for dataset in dataset_list:\n",
    "    for algorithm in algorithm_list:\n",
    "        \n",
    "        path_list = [\n",
    "            f\"entity_name/{algorithm}_{dataset}_momentum_sgd\",\n",
    "            f\"entity_name/{algorithm}_{dataset}_adam\"\n",
    "        ]\n",
    "        \n",
    "        for path in path_list:\n",
    "            model_num, calc_time = describe_exp_runs(path)\n",
    "            all_model_num += model_num\n",
    "            all_calc_time += calc_time"
   ]
  },
  {
   "cell_type": "markdown",
   "id": "a9e4ae57-027f-43a6-b403-b15fd3b7180c",
   "metadata": {},
   "source": [
    "### WILDS"
   ]
  },
  {
   "cell_type": "code",
   "execution_count": null,
   "id": "c9c9e4c3-abcf-41a0-abf7-bd0dc49930a5",
   "metadata": {
    "jupyter": {
     "outputs_hidden": true
    },
    "tags": []
   },
   "outputs": [],
   "source": [
    "dataset_list = [\n",
    "    \"WILDS_civilcomments\",\n",
    "    \"WILDS_Amazon\"\n",
    "]\n",
    "algorithm_list = [\n",
    "    \"ERM\",\n",
    "    \"IRM\"\n",
    "]\n",
    "for dataset in dataset_list:\n",
    "    for algorithm in algorithm_list:\n",
    "        \n",
    "        path_list = [\n",
    "            f\"entity_name/{dataset}_{algorithm}_momentum_sgd\",\n",
    "            f\"entity_name/{dataset}_{algorithm}_adam\"\n",
    "        ]\n",
    "        for path in path_list:\n",
    "            model_num, calc_time = describe_exp_runs(path)\n",
    "            all_model_num += model_num\n",
    "            all_calc_time += calc_time"
   ]
  },
  {
   "cell_type": "code",
   "execution_count": null,
   "id": "c3b3b016-49ff-4b5c-a14f-c12835b84b95",
   "metadata": {},
   "outputs": [],
   "source": [
    "print(f\"all model num: {all_model_num}\")\n",
    "print(f\"all calculation time: {all_calc_time} hour\")"
   ]
  },
  {
   "cell_type": "code",
   "execution_count": null,
   "id": "b4dc1cc3-f500-4f43-8ba7-c13651809b13",
   "metadata": {},
   "outputs": [],
   "source": []
  }
 ],
 "metadata": {
  "kernelspec": {
   "display_name": "Python 3 (ipykernel)",
   "language": "python",
   "name": "python3"
  },
  "language_info": {
   "codemirror_mode": {
    "name": "ipython",
    "version": 3
   },
   "file_extension": ".py",
   "mimetype": "text/x-python",
   "name": "python",
   "nbconvert_exporter": "python",
   "pygments_lexer": "ipython3",
   "version": "3.9.2"
  }
 },
 "nbformat": 4,
 "nbformat_minor": 5
}
