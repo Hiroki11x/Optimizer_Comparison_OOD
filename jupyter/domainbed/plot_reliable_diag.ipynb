{
 "cells": [
  {
   "cell_type": "code",
   "execution_count": null,
   "metadata": {},
   "outputs": [],
   "source": [
    "import matplotlib.pyplot as plt\n",
    "%matplotlib inline\n",
    "import numpy as np\n",
    "import pandas as pd\n",
    "import wandb\n",
    "from pprint import pprint"
   ]
  },
  {
   "cell_type": "code",
   "execution_count": null,
   "metadata": {},
   "outputs": [],
   "source": [
    "\n",
    "def wandb2pd(exp_runs):\n",
    "    df = pd.DataFrame(data=None, index=None, columns=None, dtype=None, copy=False)\n",
    "    summary_df = pd.DataFrame(data=None, index=None, columns=None, dtype=None, copy=False)\n",
    "    config_df = pd.DataFrame(data=None, index=None, columns=None, dtype=None, copy=False)\n",
    "    name_df = pd.DataFrame(data=None, index=None, columns=None, dtype=None, copy=False)\n",
    "\n",
    "    summary = [] \n",
    "    config = [] \n",
    "    name = [] \n",
    "    for exp in exp_runs: \n",
    "        summary.append(exp.summary._json_dict) \n",
    "        config.append({k:v for k,v in exp.config.items() if not k.startswith('_')}) \n",
    "        name.append(exp.name)       \n",
    "\n",
    "    summary_df = pd.DataFrame.from_records(summary) \n",
    "    config_df = pd.DataFrame.from_records(config) \n",
    "    name_df = pd.DataFrame({'name': name}) \n",
    "    df = pd.concat([name_df, config_df, summary_df], axis=1)\n",
    "    return df"
   ]
  },
  {
   "cell_type": "code",
   "execution_count": null,
   "metadata": {},
   "outputs": [],
   "source": [
    "# colorlist = [\"#377eb8\", \"#ff7f00\", \"#4daf4a\", \"darkred\", \"#984ea3\", \"y\", \"k\", \"w\"]\n",
    "colorlist = [\"#ff7f00\",\"#984ea3\"]\n",
    "metrics = ['avg_val_acc', 'avg_test_acc']\n",
    "metric_names = ['avg_val_acc', 'avg_test_acc']\n",
    "dataset_list = ['ColoredMNIST', 'PACS', 'VLCS', 'OfficeHome', 'TerraIncognita','DomainNet', 'RotatedMNIST']\n",
    "algorithm_list = ['ERM', 'IRM']\n",
    "optimizer_list = ['momentum_sgd', 'adam']\n",
    "num_bin = 10"
   ]
  },
  {
   "cell_type": "code",
   "execution_count": null,
   "metadata": {},
   "outputs": [],
   "source": [
    "def plot_reliability_diagram(algorithm, dataset):\n",
    "    with_weight_decay_data = ['RotatedMNIST']\n",
    "    if dataset in with_weight_decay_data:\n",
    "        path_list = [\n",
    "            f'entity_name/project_momentum_sgd_with_wd_100k',\n",
    "            f'entity_name/project_adam_with_wd_100k'\n",
    "        ]\n",
    "    else:\n",
    "        path_list = [\n",
    "            f'entity_name/project_momentum_sgd',\n",
    "            f'entity_name/project_adam'\n",
    "        ]\n",
    "\n",
    "    clr = []\n",
    "    for i in range(len(path_list)):\n",
    "\n",
    "        api = wandb.Api()\n",
    "        exp_runs = api.runs(\n",
    "            path=path_list[i],\n",
    "            filters={'state':'finished'}\n",
    "            )\n",
    "\n",
    "        exp_runs\n",
    "        df = wandb2pd(exp_runs)\n",
    "\n",
    "        clr = [colorlist[i] for a in range(len(df))]\n",
    "\n",
    "        bin_ood_accs = []\n",
    "        for j in range(num_bin):\n",
    "            bottom = (j)/num_bin\n",
    "            upper = (j+1)/num_bin\n",
    "            \n",
    "            df_ood_bin = df[upper > df[metrics[0]]]\n",
    "            df_ood_bin = df_ood_bin[ df[metrics[0]] > bottom]\n",
    "            value = df_ood_bin[metrics[1]].mean()\n",
    "            bin_ood_accs.append(value)\n",
    "\n",
    "        bins = np.linspace(0.1, 1, num_bin)\n",
    "        plt.bar(bins, bin_ood_accs, width=1/num_bin, edgecolor='black', color=colorlist[i], alpha=0.5)\n",
    "\n",
    "    plt.gca().set_aspect('equal', adjustable='box')\n",
    "    plt.grid(color='gray', linestyle='dashed')\n",
    "    plt.xlim(0, 1.05)\n",
    "    plt.ylim(0, 1.)\n",
    "\n",
    "    plt.legend(optimizer_list)\n",
    "    plt.plot([0, 1], [0, 1], '--', color='gray', linewidth=2)\n",
    "\n",
    "    plt.xlabel(f'{metric_names[0]}', fontsize=15, labelpad=2)\n",
    "    plt.ylabel(f'{metric_names[1]}', fontsize=15, labelpad=5)\n",
    "\n",
    "    plt.title(f\"{dataset}:{algorithm}\")\n",
    "    plt.grid(linewidth=1)\n",
    "    plt.savefig(f'figs/reliable_diag/bin{num_bin}_plot_{algorithm}_{dataset}.pdf')\n",
    "    plt.show()"
   ]
  },
  {
   "cell_type": "code",
   "execution_count": null,
   "metadata": {},
   "outputs": [],
   "source": [
    "\n",
    "for dataset in dataset_list:\n",
    "    for algorithm in algorithm_list:\n",
    "        plot_reliability_diagram(algorithm, dataset)\n"
   ]
  },
  {
   "cell_type": "code",
   "execution_count": null,
   "metadata": {},
   "outputs": [],
   "source": []
  }
 ],
 "metadata": {
  "interpreter": {
   "hash": "5f7dd1d9595f4b3d9b3107f685df515d2268dd469c8f454dc2b0b529c93d9b5d"
  },
  "kernelspec": {
   "display_name": "Python 3.9.5 64-bit ('3.9.5': pyenv)",
   "language": "python",
   "name": "python3"
  },
  "language_info": {
   "codemirror_mode": {
    "name": "ipython",
    "version": 3
   },
   "file_extension": ".py",
   "mimetype": "text/x-python",
   "name": "python",
   "nbconvert_exporter": "python",
   "pygments_lexer": "ipython3",
   "version": "3.9.5"
  }
 },
 "nbformat": 4,
 "nbformat_minor": 2
}
