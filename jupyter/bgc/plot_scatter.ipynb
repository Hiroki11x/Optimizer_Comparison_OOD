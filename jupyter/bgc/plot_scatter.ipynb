{
 "cells": [
  {
   "cell_type": "code",
   "execution_count": null,
   "metadata": {},
   "outputs": [],
   "source": [
    "import matplotlib.pyplot as plt\n",
    "%matplotlib inline\n",
    "import numpy as np\n",
    "import pandas as pd\n",
    "import wandb\n",
    "import os\n",
    "from pprint import pprint"
   ]
  },
  {
   "cell_type": "code",
   "execution_count": null,
   "metadata": {},
   "outputs": [],
   "source": [
    "\n",
    "def wandb2pd(exp_runs):\n",
    "    df = pd.DataFrame(data=None, index=None, columns=None, dtype=None, copy=False)\n",
    "    summary_df = pd.DataFrame(data=None, index=None, columns=None, dtype=None, copy=False)\n",
    "    config_df = pd.DataFrame(data=None, index=None, columns=None, dtype=None, copy=False)\n",
    "    name_df = pd.DataFrame(data=None, index=None, columns=None, dtype=None, copy=False)\n",
    "\n",
    "    summary = [] \n",
    "    config = [] \n",
    "    name = [] \n",
    "    for exp in exp_runs: \n",
    "        summary.append(exp.summary._json_dict) \n",
    "        config.append({k:v for k,v in exp.config.items() if not k.startswith('_')}) \n",
    "        name.append(exp.name)       \n",
    "\n",
    "    summary_df = pd.DataFrame.from_records(summary) \n",
    "    config_df = pd.DataFrame.from_records(config) \n",
    "    name_df = pd.DataFrame({'name': name}) \n",
    "    df = pd.concat([name_df, config_df, summary_df], axis=1)\n",
    "    return df"
   ]
  },
  {
   "cell_type": "code",
   "execution_count": null,
   "metadata": {},
   "outputs": [],
   "source": [
    "# colorlist = [\"#377eb8\", \"#ff7f00\", \"#4daf4a\", \"darkred\", \"#984ea3\", \"y\", \"k\", \"w\"]\n",
    "colorlist = [\"#ff7f00\",\"#984ea3\", \"y\", \"k\", \"w\"]\n",
    "metrics = ['acc_orig', 'acc_mixed_rand']\n",
    "metric_names = ['acc_orig', 'acc_mixed_rand']"
   ]
  },
  {
   "cell_type": "code",
   "execution_count": null,
   "metadata": {},
   "outputs": [],
   "source": [
    "\n",
    "optimizer_list = ['momentum_sgd', 'adam']\n",
    "\n",
    "path_list = [\n",
    "    f'entity_name/project_momentum_sgd',\n",
    "    f'entity_name/project_adam',\n",
    "]\n",
    "\n",
    "\n",
    "\n",
    "accs = []\n",
    "ood_accs = []\n",
    "clr = []\n",
    "\n",
    "for i in range(len(path_list)):\n",
    "\n",
    "    p = path_list[i]\n",
    "    \n",
    "    spea = []\n",
    "    kend = []\n",
    "\n",
    "    api = wandb.Api()\n",
    "    exp_runs = api.runs(\n",
    "        path=p,\n",
    "        filters={'state':'finished'}\n",
    "        )\n",
    "\n",
    "    exp_runs\n",
    "    df = wandb2pd(exp_runs)\n",
    "\n",
    "    print(p, len(df))\n",
    "\n",
    "    \n",
    "    # df['avg_val_acc'] = df['avg_val_acc'].astype(float, errors = 'raise')\n",
    "\n",
    "    accs = df[metrics[0]].tolist()\n",
    "    ood_accs = df[metrics[1]].tolist()\n",
    "\n",
    "    clr = [colorlist[i] for a in range(len(df))]\n",
    "    plt.scatter(accs, ood_accs, color=clr, s=50, label=optimizer_list[i], alpha=0.5)\n",
    "\n",
    "\n",
    "\n",
    "#         plt.figure(figsize=(20.0, 15.0))\n",
    "plt.xlim(0, 1.)\n",
    "plt.ylim(0, 1.)\n",
    "\n",
    "plt.xlabel(f'{metric_names[0]}', fontsize=15, labelpad=10)\n",
    "plt.ylabel(f'{metric_names[1]}', fontsize=15, labelpad=10)\n",
    "\n",
    "plt.title(f\"Background Challenge\")\n",
    "\n",
    "# plt.legend(bbox_to_anchor=(1.05, 0), borderaxespad=0, loc='lower left', fontsize=10).get_frame().set_linewidth(0)\n",
    "plt.grid(linewidth=1)\n",
    "plt.savefig(f'figs/scatter/acc_mixed_rand_background.pdf')\n",
    "plt.show()\n"
   ]
  },
  {
   "cell_type": "code",
   "execution_count": null,
   "metadata": {},
   "outputs": [],
   "source": []
  }
 ],
 "metadata": {
  "interpreter": {
   "hash": "5f7dd1d9595f4b3d9b3107f685df515d2268dd469c8f454dc2b0b529c93d9b5d"
  },
  "kernelspec": {
   "display_name": "Python 3.9.5 64-bit ('3.9.5': pyenv)",
   "language": "python",
   "name": "python3"
  },
  "language_info": {
   "codemirror_mode": {
    "name": "ipython",
    "version": 3
   },
   "file_extension": ".py",
   "mimetype": "text/x-python",
   "name": "python",
   "nbconvert_exporter": "python",
   "pygments_lexer": "ipython3",
   "version": "3.9.5"
  }
 },
 "nbformat": 4,
 "nbformat_minor": 2
}
