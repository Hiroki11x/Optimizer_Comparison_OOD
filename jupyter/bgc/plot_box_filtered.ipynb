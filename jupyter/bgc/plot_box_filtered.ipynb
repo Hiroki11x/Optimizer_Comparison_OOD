{
 "cells": [
  {
   "cell_type": "code",
   "execution_count": null,
   "metadata": {},
   "outputs": [],
   "source": [
    "import matplotlib.pyplot as plt\n",
    "%matplotlib inline\n",
    "import pandas as pd\n",
    "import wandb\n",
    "import seaborn as sns"
   ]
  },
  {
   "cell_type": "code",
   "execution_count": null,
   "metadata": {},
   "outputs": [],
   "source": [
    "\n",
    "def wandb2pd(exp_runs):\n",
    "    df = pd.DataFrame(data=None, index=None, columns=None, dtype=None, copy=False)\n",
    "    summary_df = pd.DataFrame(data=None, index=None, columns=None, dtype=None, copy=False)\n",
    "    config_df = pd.DataFrame(data=None, index=None, columns=None, dtype=None, copy=False)\n",
    "    name_df = pd.DataFrame(data=None, index=None, columns=None, dtype=None, copy=False)\n",
    "\n",
    "    summary = [] \n",
    "    config = [] \n",
    "    name = [] \n",
    "    for exp in exp_runs: \n",
    "        summary.append(exp.summary._json_dict) \n",
    "        config.append({k:v for k,v in exp.config.items() if not k.startswith('_')}) \n",
    "        name.append(exp.name)       \n",
    "\n",
    "    summary_df = pd.DataFrame.from_records(summary) \n",
    "    config_df = pd.DataFrame.from_records(config) \n",
    "    name_df = pd.DataFrame({'name': name}) \n",
    "    df = pd.concat([name_df, config_df, summary_df], axis=1)\n",
    "    return df"
   ]
  },
  {
   "cell_type": "code",
   "execution_count": null,
   "metadata": {},
   "outputs": [],
   "source": [
    "# colorlist_original = [\"#377eb8\", \"#ff7f00\", \"#4daf4a\", \"darkred\", \"#984ea3\", \"y\", \"k\", \"w\"]\n",
    "# colorlist = [colorlist_original[1], colorlist_original[4]]\n",
    "colorlist = [\"#ff7f00\",\"#984ea3\", \"y\", \"k\", \"w\"]"
   ]
  },
  {
   "cell_type": "code",
   "execution_count": null,
   "metadata": {},
   "outputs": [],
   "source": [
    "def create_boxplot_background(metrics, threshold):\n",
    "\n",
    "    optimizer_list = ['momentum_sgd', 'adam']\n",
    "\n",
    "    path_list = [\n",
    "        f'entity_name/project_momentum_sgd',\n",
    "        f'entity_name/project_adam',\n",
    "    ]\n",
    "\n",
    "    box_plot_list = []\n",
    "    \n",
    "    for i in range(len(path_list)):\n",
    "\n",
    "        p = path_list[i]\n",
    "        o = optimizer_list[i]\n",
    "\n",
    "        api = wandb.Api()\n",
    "        exp_runs = api.runs(\n",
    "            path=p,\n",
    "            filters={'state':'finished'}\n",
    "            )\n",
    "\n",
    "        exp_runs\n",
    "        df = wandb2pd(exp_runs)\n",
    "        df = df[df[metrics[0]]>threshold]\n",
    "        df['gap'] = df[metrics[0]]-df[metrics[1]]\n",
    "        df['optimizer'] = o\n",
    "\n",
    "        box_plot_list.append(df)\n",
    "\n",
    "    df_boxplot = pd.concat(box_plot_list)\n",
    "    print(df_boxplot.columns)\n",
    "\n",
    "    plt.clf()\n",
    "    sns.color_palette(colorlist,2)\n",
    "    sns.set_palette(colorlist)\n",
    "\n",
    "    ax = sns.boxplot(x='optimizer', y=metrics[0], data=df_boxplot)\n",
    "    ax.set_xticklabels(['Momentum', 'Adam'])\n",
    "\n",
    "    plt.ylim(0, 1.)\n",
    "    plt.title(f\"Background Challenge\")\n",
    "    plt.grid(linewidth=1)\n",
    "    plt.savefig(f'figs/box/filtered/boxplot_{metrics[0]}_background.pdf')\n",
    "    plt.show()\n",
    "\n",
    "    ax = sns.boxplot(x='optimizer', y=metrics[1], data=df_boxplot)\n",
    "    ax.set_xticklabels(['Momentum', 'Adam'])\n",
    "\n",
    "    plt.ylim(0, 1.)\n",
    "    plt.title(f\"Background Challenge\")\n",
    "    plt.grid(linewidth=1)\n",
    "    plt.savefig(f'figs/box/filtered/boxplot_{metrics[1]}_background.pdf')\n",
    "    plt.show()\n",
    "\n",
    "\n",
    "    ax = sns.boxplot(x='optimizer', y='gap', data=df_boxplot)\n",
    "    ax.set_xticklabels(['Momentum', 'Adam'])\n",
    "\n",
    "    plt.ylim(0, 1.)\n",
    "    plt.title(f\"Background Challenge\")\n",
    "    plt.grid(linewidth=1)\n",
    "    plt.savefig(f'figs/box/filtered/boxplot_gap_background.pdf')\n",
    "    plt.show()"
   ]
  },
  {
   "cell_type": "code",
   "execution_count": null,
   "metadata": {},
   "outputs": [],
   "source": [
    "create_boxplot_background(['acc_orig', 'acc_mixed_rand'], 1/10 *2)"
   ]
  }
 ],
 "metadata": {
  "interpreter": {
   "hash": "aee8b7b246df8f9039afb4144a1f6fd8d2ca17a180786b69acc140d282b71a49"
  },
  "kernelspec": {
   "display_name": "Python 3.9.5 64-bit",
   "language": "python",
   "name": "python3"
  },
  "language_info": {
   "codemirror_mode": {
    "name": "ipython",
    "version": 3
   },
   "file_extension": ".py",
   "mimetype": "text/x-python",
   "name": "python",
   "nbconvert_exporter": "python",
   "pygments_lexer": "ipython3",
   "version": "3.9.5"
  }
 },
 "nbformat": 4,
 "nbformat_minor": 2
}
