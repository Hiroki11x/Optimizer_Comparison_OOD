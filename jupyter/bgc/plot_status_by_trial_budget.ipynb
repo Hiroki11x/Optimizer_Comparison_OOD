{
 "cells": [
  {
   "cell_type": "code",
   "execution_count": null,
   "id": "bc50a970-0ea7-471b-9ac4-d404236af221",
   "metadata": {},
   "outputs": [],
   "source": [
    "import numpy as np\n",
    "import matplotlib.pyplot as plt\n",
    "%matplotlib inline\n",
    "import pandas as pd\n",
    "import wandb\n",
    "\n",
    "from typing import Union"
   ]
  },
  {
   "cell_type": "code",
   "execution_count": null,
   "id": "2bb7f73c-c000-4548-9866-375e18c10984",
   "metadata": {},
   "outputs": [],
   "source": [
    "def wandb2pd(exp_runs):\n",
    "    df = pd.DataFrame(data=None, index=None, columns=None, dtype=None, copy=False)\n",
    "    summary_df = pd.DataFrame(data=None, index=None, columns=None, dtype=None, copy=False)\n",
    "    config_df = pd.DataFrame(data=None, index=None, columns=None, dtype=None, copy=False)\n",
    "    name_df = pd.DataFrame(data=None, index=None, columns=None, dtype=None, copy=False)\n",
    "\n",
    "    summary = [] \n",
    "    config = [] \n",
    "    name = [] \n",
    "    for exp in exp_runs: \n",
    "        summary.append(exp.summary._json_dict) \n",
    "        config.append({k:v for k,v in exp.config.items() if not k.startswith('_')}) \n",
    "        name.append(exp.name)       \n",
    "\n",
    "    summary_df = pd.DataFrame.from_records(summary) \n",
    "    config_df = pd.DataFrame.from_records(config) \n",
    "    name_df = pd.DataFrame({'name': name}) \n",
    "    df = pd.concat([name_df, config_df, summary_df], axis=1)\n",
    "    return df\n"
   ]
  },
  {
   "cell_type": "code",
   "execution_count": null,
   "id": "d7461c2b-f1d9-44c7-ba82-b7b3e30214ae",
   "metadata": {},
   "outputs": [],
   "source": [
    "def plot_status_by_trial_budget(\n",
    "        df             :pd.DataFrame,\n",
    "        plot_column    :str,\n",
    "        top_k          :Union[int, str],\n",
    "        optimizer_name :str,\n",
    "        in_or_out      :str,\n",
    "        max_xlim       :int,\n",
    "        max_ylim       :float,\n",
    "        is_log_xscale  :bool=False,\n",
    "    ):\n",
    "    plt.figure(figsize=(6,4))\n",
    "    plt.get_cmap('Blues') \n",
    "    \n",
    "    ns = [n*10 for n in range(max_xlim)]\n",
    "    \n",
    "    acc_maxes = [df.head(n)[plot_column].max() for n in ns]\n",
    "    plt.plot(ns, acc_maxes, label=\"top-1\")\n",
    "    \n",
    "    acc_averages = [\n",
    "        df.head(n)\\\n",
    "          .sort_values(by=plot_column, axis=0, ascending=False)[plot_column]\\\n",
    "          .head(top_k)\\\n",
    "          .mean()\\\n",
    "        for n in ns\n",
    "    ]\n",
    "    plt.plot(ns, acc_averages, label=f\"top-{top_k} average\")\n",
    "    \n",
    "    acc_averages = [\n",
    "        df.head(n)[plot_column]\\\n",
    "          .mean()\\\n",
    "        for n in ns\n",
    "    ]\n",
    "    plt.plot(ns, acc_averages, label=f\"all average\")\n",
    "\n",
    "    plt.title(f\"Background Challenge {optimizer_name}\", fontsize=12)\n",
    "    plt.xlabel(f\"trials\", fontsize=14)\n",
    "    plt.ylabel(f\"{in_or_out}-distribution acc\", fontsize=14)\n",
    "    plt.ylim(top=max_ylim+max_ylim*0.01)\n",
    "    \n",
    "    if is_log_xscale:\n",
    "        plt.xscale(\"log\")\n",
    "        \n",
    "    plt.grid(linewidth=1, alpha=0.5)\n",
    "    plt.legend()\n",
    "    \n",
    "    if is_log_xscale:\n",
    "        plt.savefig(f\"bgc/figs/accplot_by_trial_budget/bgc_{in_or_out}dist_acc_{optimizer_name}_logscale.pdf\")\n",
    "    else:\n",
    "        plt.savefig(f\"bgc/figs/accplot_by_trial_budget/bgc_{in_or_out}dist_acc_{optimizer_name}.pdf\")\n",
    "    \n",
    "    return "
   ]
  },
  {
   "cell_type": "code",
   "execution_count": null,
   "id": "77d608c8-fc5f-4cd2-81fa-fe94e508c558",
   "metadata": {},
   "outputs": [],
   "source": [
    "exp_df_dict = {}\n",
    "optimizer_name_list = [\n",
    "    \"Momentum\",\n",
    "    \"Adam\"\n",
    "]\n",
    "path_list = [\n",
    "    f\"entity_name/project_momentum_sgd\",\n",
    "    f\"entity_name/project_adam\"\n",
    "]\n",
    "api = wandb.Api()"
   ]
  },
  {
   "cell_type": "code",
   "execution_count": null,
   "id": "4467c192-9a33-4b1e-aa9d-29c6af3da6b4",
   "metadata": {},
   "outputs": [],
   "source": [
    "for i in range(len(path_list)):\n",
    "    path = path_list[i]\n",
    "    optimizer_name = optimizer_name_list[i]\n",
    "    \n",
    "    exp_runs = api.runs(\n",
    "        path=path,\n",
    "        filters={\"state\":\"finished\"}\n",
    "    )\n",
    "\n",
    "    df = wandb2pd(exp_runs)\n",
    "    df.sort_values(by=\"_timestamp\", axis=0, ascending=True, inplace=True)\n",
    "    \n",
    "    exp_df_dict[optimizer_name] = df"
   ]
  },
  {
   "cell_type": "code",
   "execution_count": null,
   "id": "77af6634-589f-4f60-b37a-9d8ad4aaabff",
   "metadata": {},
   "outputs": [],
   "source": [
    "min_exp_length = 10**5\n",
    "max_in_acc = 0\n",
    "max_out_acc = 0\n",
    "\n",
    "for exp_df in exp_df_dict.values():\n",
    "    if len(exp_df) < min_exp_length:\n",
    "        min_exp_length = len(exp_df)\n",
    "    \n",
    "    if exp_df[\"acc_orig\"].max() > max_in_acc:\n",
    "        max_in_acc = exp_df[\"acc_orig\"].max()\n",
    "        \n",
    "    if exp_df[\"acc_mixed_rand\"].max() > max_out_acc:\n",
    "        max_out_acc = exp_df[\"acc_mixed_rand\"].max()\n",
    "    \n",
    "print(min_exp_length, max_in_acc, max_out_acc)"
   ]
  },
  {
   "cell_type": "markdown",
   "id": "bf7184ba-51ab-4c28-8c99-a310843f1a43",
   "metadata": {},
   "source": [
    "### not log scale"
   ]
  },
  {
   "cell_type": "code",
   "execution_count": null,
   "id": "5e1a75c6-38fc-4c1c-8e7a-7a119a242044",
   "metadata": {
    "jupyter": {
     "outputs_hidden": true
    },
    "tags": []
   },
   "outputs": [],
   "source": [
    "plot_column_list = [\"acc_orig\", \"acc_mixed_rand\"]\n",
    "in_or_out_list = [\"in\", \"out\"]\n",
    "max_ylim_list = [max_in_acc, max_out_acc]\n",
    "\n",
    "for optimizer_name, exp_df in exp_df_dict.items():\n",
    "    for plot_column, in_or_out, max_ylim in zip(plot_column_list, in_or_out_list, max_ylim_list):\n",
    "\n",
    "        plot_status_by_trial_budget(\n",
    "            df=exp_df,\n",
    "            plot_column=plot_column,\n",
    "            top_k=10,\n",
    "            optimizer_name=optimizer_name,\n",
    "            in_or_out=in_or_out,\n",
    "            max_xlim=min_exp_length//10,\n",
    "            max_ylim=max_ylim,\n",
    "            is_log_xscale=False,\n",
    "        )\n",
    "        "
   ]
  },
  {
   "cell_type": "markdown",
   "id": "a7b19ce0-ccb7-418f-acb2-9d2569706e7e",
   "metadata": {},
   "source": [
    "### log scale"
   ]
  },
  {
   "cell_type": "code",
   "execution_count": null,
   "id": "17834853-4277-46f5-ad21-4d7dd4bd7cdd",
   "metadata": {
    "jupyter": {
     "outputs_hidden": true
    },
    "tags": []
   },
   "outputs": [],
   "source": [
    "plot_column_list = [\"acc_orig\", \"acc_mixed_rand\"]\n",
    "in_or_out_list = [\"in\", \"out\"]\n",
    "max_ylim_list = [max_in_acc, max_out_acc]\n",
    "\n",
    "for optimizer_name, exp_df in exp_df_dict.items():\n",
    "    for plot_column, in_or_out, max_ylim in zip(plot_column_list, in_or_out_list, max_ylim_list):\n",
    "\n",
    "        plot_status_by_trial_budget(\n",
    "            df=exp_df,\n",
    "            plot_column=plot_column,\n",
    "            top_k=10,\n",
    "            optimizer_name=optimizer_name,\n",
    "            in_or_out=in_or_out,\n",
    "            max_xlim=min_exp_length//10,\n",
    "            max_ylim=max_ylim,\n",
    "            is_log_xscale=True,\n",
    "        )\n",
    "        "
   ]
  },
  {
   "cell_type": "code",
   "execution_count": null,
   "id": "627b285b-fb36-4445-b3b6-e560e3e08f4a",
   "metadata": {},
   "outputs": [],
   "source": []
  }
 ],
 "metadata": {
  "kernelspec": {
   "display_name": "Python 3 (ipykernel)",
   "language": "python",
   "name": "python3"
  },
  "language_info": {
   "codemirror_mode": {
    "name": "ipython",
    "version": 3
   },
   "file_extension": ".py",
   "mimetype": "text/x-python",
   "name": "python",
   "nbconvert_exporter": "python",
   "pygments_lexer": "ipython3",
   "version": "3.9.2"
  }
 },
 "nbformat": 4,
 "nbformat_minor": 5
}
